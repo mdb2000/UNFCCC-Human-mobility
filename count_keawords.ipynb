{
  "cells": [
    {
      "cell_type": "markdown",
      "metadata": {
        "id": "view-in-github",
        "colab_type": "text"
      },
      "source": [
        "<a href=\"https://colab.research.google.com/github/mdb2000/UNFCCC-Human-mobility/blob/Python-codes/count_keawords.ipynb\" target=\"_parent\"><img src=\"https://colab.research.google.com/assets/colab-badge.svg\" alt=\"Open In Colab\"/></a>"
      ]
    },
    {
      "cell_type": "code",
      "execution_count": null,
      "id": "43bfc71b-6ee3-4293-b65d-fff0b8f9cd88",
      "metadata": {
        "id": "43bfc71b-6ee3-4293-b65d-fff0b8f9cd88"
      },
      "outputs": [],
      "source": [
        "import os\n",
        "import csv\n",
        "import pandas as pd"
      ]
    },
    {
      "cell_type": "code",
      "execution_count": null,
      "id": "afd071b7-5479-4345-a1cc-dc751d099b77",
      "metadata": {
        "id": "afd071b7-5479-4345-a1cc-dc751d099b77"
      },
      "outputs": [],
      "source": [
        "# Define the folder path containing the text documents\n",
        "folder_name = 'Mitigation'\n",
        "folder_path = f'C:\\\\Users\\\\3104470\\\\Desktop\\\\data\\\\text extraction\\\\{folder_name}'\n",
        "folder_csv = 'C:\\\\Users\\\\3104470\\\\Desktop\\\\data\\\\dataframe'\n",
        "\n",
        "# Create the local folder if it doesn't exist\n",
        "if not os.path.exists(folder_csv):\n",
        "    os.makedirs(folder_csv)\n",
        "\n",
        "# Define the words to search for\n",
        "keywords = ['migration', 'displacement', 'immigration', 'relocation', 'refugee']\n",
        "\n",
        "# Initialize a list to store data for DataFrame\n",
        "data = []"
      ]
    },
    {
      "cell_type": "code",
      "execution_count": null,
      "id": "f5aa4d64-f1f7-4ac8-9e02-0fcc9e736a2c",
      "metadata": {
        "id": "f5aa4d64-f1f7-4ac8-9e02-0fcc9e736a2c"
      },
      "outputs": [],
      "source": [
        "# Iterate through each text file in the folder\n",
        "for idx, filename in enumerate(os.listdir(folder_path), start=1):\n",
        "    if filename.endswith(\".txt\"):\n",
        "        # Generate ID (e.g., 1_ACE)\n",
        "        file_id = f\"{idx}_{folder_name[:3]}\"\n",
        "\n",
        "        # Read the text from the file using utf-8 encoding\n",
        "        file_path = os.path.join(folder_path, filename)\n",
        "        with open(file_path, \"r\", encoding=\"utf-8\") as file:\n",
        "            text = file.read()\n",
        "\n",
        "        # Initialize a list to store keyword counts for the current file\n",
        "        keyword_counts = []\n",
        "\n",
        "        # Count the occurrences of each keyword in the text\n",
        "        for keyword in keywords:\n",
        "            count = text.lower().count(keyword)\n",
        "            keyword_counts.append(count)\n",
        "\n",
        "        # Append data for the current file to the list\n",
        "        data.append([filename, file_id] + keyword_counts)\n",
        "\n",
        "# Define the column names for the DataFrame\n",
        "columns = ['Filename', 'ID'] + [f\"{keyword}_count\" for keyword in keywords]\n",
        "\n",
        "# Create a DataFrame from the data list\n",
        "df = pd.DataFrame(data, columns=columns)\n",
        "\n",
        "\n",
        "# Calculate the sum of keyword counts across all files\n",
        "sum_counts = df[[f\"{keyword}_count\" for keyword in keywords]].sum().tolist()\n",
        "\n",
        "#create the sum row with the keywords sums\n",
        "sum_row=['Total','']+ sum_counts\n",
        "#insert it at the top of df\n",
        "df.loc[-1]=sum_row\n",
        "#re-index df if you don't want to mess everything around\n",
        "df.index +=1\n",
        "#now sort dataframe\n",
        "df.sort_index(inplace=True)"
      ]
    },
    {
      "cell_type": "code",
      "execution_count": null,
      "id": "bb11deb8-5daa-4f98-9c27-04e747e98ed9",
      "metadata": {
        "id": "bb11deb8-5daa-4f98-9c27-04e747e98ed9"
      },
      "outputs": [],
      "source": [
        "# Save DataFrame to a CSV file\n",
        "csv_filename = f'df_{folder_name[:3]}.csv'\n",
        "csv_filepath = os.path.join(folder_csv, csv_filename)\n",
        "\n",
        "# Save the DataFrame to the CSV file\n",
        "df.to_csv(csv_filepath, index=False)"
      ]
    },
    {
      "cell_type": "code",
      "execution_count": null,
      "id": "9288ef37-8144-450d-a130-f41ba2efcfa3",
      "metadata": {
        "id": "9288ef37-8144-450d-a130-f41ba2efcfa3"
      },
      "outputs": [],
      "source": []
    },
    {
      "cell_type": "code",
      "execution_count": null,
      "id": "652605e3-c2ea-4b80-a49c-5968aeeaffc3",
      "metadata": {
        "id": "652605e3-c2ea-4b80-a49c-5968aeeaffc3"
      },
      "outputs": [],
      "source": []
    }
  ],
  "metadata": {
    "kernelspec": {
      "display_name": "Python 3 (ipykernel)",
      "language": "python",
      "name": "python3"
    },
    "language_info": {
      "codemirror_mode": {
        "name": "ipython",
        "version": 3
      },
      "file_extension": ".py",
      "mimetype": "text/x-python",
      "name": "python",
      "nbconvert_exporter": "python",
      "pygments_lexer": "ipython3",
      "version": "3.11.7"
    },
    "colab": {
      "provenance": [],
      "include_colab_link": true
    }
  },
  "nbformat": 4,
  "nbformat_minor": 5
}