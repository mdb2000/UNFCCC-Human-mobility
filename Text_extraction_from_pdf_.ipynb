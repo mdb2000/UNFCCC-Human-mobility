{
  "cells": [
    {
      "cell_type": "markdown",
      "metadata": {
        "id": "view-in-github",
        "colab_type": "text"
      },
      "source": [
        "<a href=\"https://colab.research.google.com/github/mdb2000/UNFCCC-Human-mobility/blob/main/Text_extraction_from_pdf_.ipynb\" target=\"_parent\"><img src=\"https://colab.research.google.com/assets/colab-badge.svg\" alt=\"Open In Colab\"/></a>"
      ]
    },
    {
      "cell_type": "code",
      "execution_count": null,
      "id": "416fb0f6-7191-4c85-bf46-48efcd81b602",
      "metadata": {
        "id": "416fb0f6-7191-4c85-bf46-48efcd81b602"
      },
      "outputs": [],
      "source": [
        "# You create a new database with all pdf, names and wheter words are found\n",
        "#with a folder with multiple pdf, create a loop to extract text files in a new folder\n",
        "#there is a smartest way to do it, this is helpful if you need to extract only one folder\n",
        "import pdfplumber\n",
        "import os"
      ]
    },
    {
      "cell_type": "code",
      "execution_count": null,
      "id": "dc28e282-0267-45b6-911b-0721b1cc4f6b",
      "metadata": {
        "id": "dc28e282-0267-45b6-911b-0721b1cc4f6b"
      },
      "outputs": [],
      "source": [
        "#define a new function w/ file path as an input\n",
        "def extract_text_from_pdf(pdf_path):\n",
        "    #inizialise an empty string to store the extracted text\n",
        "    text=\"\"\n",
        "    #with statement to open file through the function .open() that open and closes\n",
        "    with pdfplumber.open(pdf_path) as pdf:\n",
        "        #use a loop for each page\n",
        "        for page in pdf.pages:\n",
        "            #use page.extract_text() to exract\n",
        "            text+= page.extract_text()\n",
        "    text=text.lower()\n",
        "    return text"
      ]
    },
    {
      "cell_type": "code",
      "execution_count": null,
      "id": "8604bfb2-d768-46fd-82f8-10b47ff31b9d",
      "metadata": {
        "id": "8604bfb2-d768-46fd-82f8-10b47ff31b9d"
      },
      "outputs": [],
      "source": [
        "folder = ''\n",
        "pdf_directory = f\"C:\\\\Users\\\\3104470\\\\Desktop\\\\data\\\\official data\\\\{folder}\"\n",
        "output_directory = f\"C:\\\\Users\\\\3104470\\\\Desktop\\\\data\\\\text extraction\\\\{folder}\"\n"
      ]
    },
    {
      "cell_type": "code",
      "execution_count": null,
      "id": "e41e17ef-23bf-47c8-96d1-6d2b8d777b72",
      "metadata": {
        "id": "e41e17ef-23bf-47c8-96d1-6d2b8d777b72"
      },
      "outputs": [],
      "source": [
        "# Initialize an empty list to store the data for the DataFrame\n",
        "data = []"
      ]
    },
    {
      "cell_type": "code",
      "execution_count": null,
      "id": "9a333aba-251d-4e8d-ae68-d8275e249d2f",
      "metadata": {
        "id": "9a333aba-251d-4e8d-ae68-d8275e249d2f"
      },
      "outputs": [],
      "source": [
        "if not os.path.exists(output_directory):\n",
        "    os.makedirs(output_directory)"
      ]
    },
    {
      "cell_type": "code",
      "execution_count": null,
      "id": "fd024b9c-d5f8-4ffe-b378-032b97686ecc",
      "metadata": {
        "id": "fd024b9c-d5f8-4ffe-b378-032b97686ecc"
      },
      "outputs": [],
      "source": [
        "for filename in os.listdir(pdf_directory):\n",
        "    if filename.endswith(\".pdf\"):\n",
        "        pdf_path = os.path.join(pdf_directory, filename)\n",
        "        text = extract_text_from_pdf(pdf_path)\n",
        "         # Save the extracted text to a text file\n",
        "        output_file = os.path.join(output_directory, filename.replace(\".pdf\", \".txt\"))\n",
        "        with open(output_file, \"w\", encoding=\"utf-8\") as text_file:\n",
        "            text_file.write(text)"
      ]
    },
    {
      "cell_type": "code",
      "execution_count": null,
      "id": "e1cc4e57-1f5a-4f8c-8dec-2c38988eefd7",
      "metadata": {
        "id": "e1cc4e57-1f5a-4f8c-8dec-2c38988eefd7"
      },
      "outputs": [],
      "source": []
    }
  ],
  "metadata": {
    "kernelspec": {
      "display_name": "Python 3 (ipykernel)",
      "language": "python",
      "name": "python3"
    },
    "language_info": {
      "codemirror_mode": {
        "name": "ipython",
        "version": 3
      },
      "file_extension": ".py",
      "mimetype": "text/x-python",
      "name": "python",
      "nbconvert_exporter": "python",
      "pygments_lexer": "ipython3",
      "version": "3.12.1"
    },
    "colab": {
      "provenance": [],
      "include_colab_link": true
    }
  },
  "nbformat": 4,
  "nbformat_minor": 5
}